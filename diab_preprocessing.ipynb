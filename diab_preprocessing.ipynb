{
 "cells": [
  {
   "cell_type": "code",
   "execution_count": 3,
   "id": "0930f3cc-50b0-4ae9-94ae-823e4632cf98",
   "metadata": {},
   "outputs": [],
   "source": [
    "import pandas as pd\n",
    "import numpy as np\n",
    "import sklearn"
   ]
  },
  {
   "cell_type": "code",
   "execution_count": 4,
   "id": "916ee96b-2d93-48be-9f25-beadabf304a8",
   "metadata": {},
   "outputs": [],
   "source": [
    "filepath='diabetes_dataset.csv'\n",
    "df=pd.read_csv(filepath)"
   ]
  },
  {
   "cell_type": "code",
   "execution_count": 5,
   "id": "8b6efb8b-78c3-4c08-a34a-289ece66cdd6",
   "metadata": {},
   "outputs": [],
   "source": [
    "# Calculate mean and std of Glucose\n",
    "glucose_mean = df['Glucose'].mean()\n",
    "glucose_std = df['Glucose'].std()\n",
    "\n",
    "# Save to a file\n",
    "np.savez('glucose_stats.npz', mean=glucose_mean, std=glucose_std)"
   ]
  },
  {
   "cell_type": "code",
   "execution_count": 6,
   "id": "647abd49-c5b7-43df-a55e-e6832e6af0f8",
   "metadata": {},
   "outputs": [],
   "source": [
    "# Create BMI categories\n",
    "df['BMI_Category'] = pd.cut(df['BMI'], bins=[0, 18.5, 24.9, 29.9, 100], labels=['Underweight', 'Normal', 'Overweight', 'Obese'])\n",
    "\n",
    "# Create Age groups\n",
    "df['Age_Group'] = pd.cut(df['Age'], bins=[0, 30, 50, 100], labels=['18-30', '31-50', '51+'])\n",
    "\n",
    "# Create Glucose categories\n",
    "df['Glucose_Category'] = pd.cut(df['Glucose'], bins=[0, 99, 125, 300], labels=['Normal', 'Prediabetes', 'Diabetes'])"
   ]
  },
  {
   "cell_type": "code",
   "execution_count": 7,
   "id": "ae9022cc-4a7f-45c7-a447-3f694bc9df34",
   "metadata": {},
   "outputs": [],
   "source": [
    "# One-hot encoding for categorical variables\n",
    "df = pd.get_dummies(df, columns=['BMI_Category', 'Age_Group', 'Glucose_Category'], drop_first=True)"
   ]
  },
  {
   "cell_type": "code",
   "execution_count": 8,
   "id": "a5ac093c-2ed1-41b5-a2fa-c275089de926",
   "metadata": {},
   "outputs": [],
   "source": [
    "from sklearn.preprocessing import StandardScaler\n",
    "\n",
    "# Scale numerical features\n",
    "scaler = StandardScaler()\n",
    "numerical_features = ['Age', 'BMI', 'Glucose', 'BloodPressure', 'HbA1c', 'LDL', 'HDL', 'Triglycerides', 'WaistCircumference', 'HipCircumference', 'WHR']\n",
    "df[numerical_features] = scaler.fit_transform(df[numerical_features])\n",
    "#joblib.dump(scaler,'scaler.pkl')"
   ]
  },
  {
   "cell_type": "code",
   "execution_count": 10,
   "id": "68bc7ee9-c5a2-4596-9d56-8041a2e00b08",
   "metadata": {},
   "outputs": [],
   "source": [
    "from sklearn.model_selection import train_test_split\n",
    "\n",
    "# Define features (X) and target (y)\n",
    "X = df.drop('Outcome', axis=1)\n",
    "y = df['Outcome']\n",
    "\n",
    "# Split the data (80% training, 20% testing)\n",
    "X_train, X_test, y_train, y_test = train_test_split(X, y, test_size=0.2, random_state=42)"
   ]
  }
 ],
 "metadata": {
  "kernelspec": {
   "display_name": "Python 3 (ipykernel)",
   "language": "python",
   "name": "python3"
  },
  "language_info": {
   "codemirror_mode": {
    "name": "ipython",
    "version": 3
   },
   "file_extension": ".py",
   "mimetype": "text/x-python",
   "name": "python",
   "nbconvert_exporter": "python",
   "pygments_lexer": "ipython3",
   "version": "3.12.4"
  }
 },
 "nbformat": 4,
 "nbformat_minor": 5
}
